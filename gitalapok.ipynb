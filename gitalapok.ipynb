{
 "metadata": {
  "name": "",
  "signature": "sha256:f2240eee7c60e750aca092e20c29e3e48146810cdd6b4711ad43d7fae4a15daa"
 },
 "nbformat": 3,
 "nbformat_minor": 0,
 "worksheets": [
  {
   "cells": [
    {
     "cell_type": "heading",
     "level": 1,
     "metadata": {},
     "source": [
      "Git alapok"
     ]
    },
    {
     "cell_type": "markdown",
     "metadata": {},
     "source": [
      "Git konfigur\u00e1l\u00e1sa:\n",
      "\n",
      "Haszn\u00e1latba veszem az \u00faj laptopomat, bejelentkezek. <br>\n",
      "Be\u00e1ll\u00edtom az alap git adatokat. <br>\n",
      "A felhaszn\u00e1l\u00f3i nevem: <br>\n",
      "git config --global user.name \"Nagy.Zsolt\"\n"
     ]
    },
    {
     "cell_type": "code",
     "collapsed": false,
     "input": [
      "!git config --global user.name \"Nagy.Zsolt\""
     ],
     "language": "python",
     "metadata": {},
     "outputs": [],
     "prompt_number": 11
    },
    {
     "cell_type": "markdown",
     "metadata": {},
     "source": [
      "A felhaszn\u00e1l\u00f3 email c\u00edm\u00e9nek be\u00e1ll\u00edt\u00e1sa:<br>\n",
      "git config --global user.email \"n.zsolti97@icloud.com\""
     ]
    },
    {
     "cell_type": "code",
     "collapsed": false,
     "input": [
      "!git config --global user.email \"n.zsolti97@icloud.com\""
     ],
     "language": "python",
     "metadata": {},
     "outputs": [],
     "prompt_number": 12
    },
    {
     "cell_type": "markdown",
     "metadata": {},
     "source": [
      "Ezek az adatok egy .gitconfig f\u00e1jlba ker\u00fclnek. <br>\n",
      "cat.gitconfig"
     ]
    },
    {
     "cell_type": "code",
     "collapsed": false,
     "input": [
      "!cat.gitconfig"
     ],
     "language": "python",
     "metadata": {},
     "outputs": [
      {
       "output_type": "stream",
       "stream": "stdout",
       "text": [
        "/bin/sh: 1: cat.gitconfig: not found\r\n"
       ]
      }
     ],
     "prompt_number": 14
    },
    {
     "cell_type": "markdown",
     "metadata": {},
     "source": [
      "[user] <br>\n",
      "            name = Nagy Zsolt<br>\n",
      "            email = n.zsolti97@icloud.com"
     ]
    },
    {
     "cell_type": "heading",
     "level": 1,
     "metadata": {},
     "source": [
      "Kezdj\u00fck el a projekt\u00fcnket"
     ]
    },
    {
     "cell_type": "markdown",
     "metadata": {},
     "source": [
      "Hozzuk l\u00e9tre a projekt k\u00f6nyvt\u00e1rat munka n\u00e9ven:<br>\n",
      "mkdir munka"
     ]
    },
    {
     "cell_type": "code",
     "collapsed": false,
     "input": [
      "!mkdir munkaa"
     ],
     "language": "python",
     "metadata": {},
     "outputs": [],
     "prompt_number": 19
    },
    {
     "cell_type": "markdown",
     "metadata": {},
     "source": [
      "L\u00e9trehozunk egy git t\u00e1rol\u00f3t (repository) a munka k\u00f6nyvt\u00e1rban:<br>\n",
      "! cd munkaa; git init"
     ]
    },
    {
     "cell_type": "code",
     "collapsed": false,
     "input": [
      "!cd munkaa; git init"
     ],
     "language": "python",
     "metadata": {},
     "outputs": [
      {
       "output_type": "stream",
       "stream": "stdout",
       "text": [
        "Initialized empty Git repository in /home/nagyzsolt/munkaa/.git/\r\n"
       ]
      }
     ],
     "prompt_number": 22
    },
    {
     "cell_type": "code",
     "collapsed": false,
     "input": [],
     "language": "python",
     "metadata": {},
     "outputs": []
    }
   ],
   "metadata": {}
  }
 ]
}